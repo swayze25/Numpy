{
 "cells": [
  {
   "cell_type": "markdown",
   "id": "110c0c2d",
   "metadata": {},
   "source": [
    "# Strings and Dictionaries\n",
    "\n",
    "One place where the Python language really shines is in the manipulation of strings. This section will cover some of Python's built-in string methods and formatting operations.\n",
    "\n",
    "Such string manipulation patterns come up often in the context of data science work. In Python can be defined using either single or double quotations. They are functionally equivalent."
   ]
  },
  {
   "cell_type": "code",
   "execution_count": 2,
   "id": "91df4f4b",
   "metadata": {},
   "outputs": [
    {
     "data": {
      "text/plain": [
       "True"
      ]
     },
     "execution_count": 2,
     "metadata": {},
     "output_type": "execute_result"
    }
   ],
   "source": [
    "x = 'Pluto is a planet'\n",
    "y = \"Pluto is a planet\"\n",
    "x == y"
   ]
  },
  {
   "cell_type": "markdown",
   "id": "ef1a1136",
   "metadata": {},
   "source": [
    "Double quotes are convenient if your string contains a single quote character (e.g. representing an apostrophe).\n",
    "\n",
    "Similarly, it's easy to create a string that contains double-quotes if you wrap it in single quotes:"
   ]
  },
  {
   "cell_type": "code",
   "execution_count": 3,
   "id": "4b21de3e",
   "metadata": {},
   "outputs": [
    {
     "name": "stdout",
     "output_type": "stream",
     "text": [
      "Pluto's a planet!\n",
      "My dog is named \"Pluto\"\n"
     ]
    }
   ],
   "source": [
    "print(\"Pluto's a planet!\")\n",
    "print('My dog is named \"Pluto\"')"
   ]
  },
  {
   "cell_type": "code",
   "execution_count": 5,
   "id": "fd011785",
   "metadata": {},
   "outputs": [
    {
     "ename": "SyntaxError",
     "evalue": "invalid syntax (1999444579.py, line 2)",
     "output_type": "error",
     "traceback": [
      "\u001b[0;36m  File \u001b[0;32m\"/tmp/ipykernel_210301/1999444579.py\"\u001b[0;36m, line \u001b[0;32m2\u001b[0m\n\u001b[0;31m    'Pluto's a planet!'\u001b[0m\n\u001b[0m           ^\u001b[0m\n\u001b[0;31mSyntaxError\u001b[0m\u001b[0;31m:\u001b[0m invalid syntax\n"
     ]
    }
   ],
   "source": [
    "#If we try to put a single quote character inside a single-quoted string, Python gets confused:\n",
    "'Pluto's a planet!'"
   ]
  },
  {
   "cell_type": "markdown",
   "id": "5453b71c",
   "metadata": {},
   "source": [
    "The empty string has length zero. Note that the empty string is also the only string that Python considers as False when converting to boolean:"
   ]
  },
  {
   "cell_type": "code",
   "execution_count": 84,
   "id": "35bd8080",
   "metadata": {},
   "outputs": [
    {
     "ename": "SyntaxError",
     "evalue": "unexpected EOF while parsing (2002482492.py, line 2)",
     "output_type": "error",
     "traceback": [
      "\u001b[0;36m  File \u001b[0;32m\"/tmp/ipykernel_210301/2002482492.py\"\u001b[0;36m, line \u001b[0;32m2\u001b[0m\n\u001b[0;31m    print (boolean(len(a))\u001b[0m\n\u001b[0m                          ^\u001b[0m\n\u001b[0;31mSyntaxError\u001b[0m\u001b[0;31m:\u001b[0m unexpected EOF while parsing\n"
     ]
    }
   ],
   "source": [
    "a = \"\"\n",
    "print (len(a))"
   ]
  },
  {
   "cell_type": "code",
   "execution_count": 6,
   "id": "31912962",
   "metadata": {},
   "outputs": [
    {
     "data": {
      "text/plain": [
       "\"Pluto's a planet!\""
      ]
     },
     "execution_count": 6,
     "metadata": {},
     "output_type": "execute_result"
    }
   ],
   "source": [
    "#We can fix this by \"escaping\" the single quote with a backslash.\n",
    "'Pluto\\'s a planet!'"
   ]
  },
  {
   "cell_type": "markdown",
   "id": "91f17c1f",
   "metadata": {},
   "source": [
    "    What you type... \t  What you get \t  example               \tprint(example)\n",
    "            \\' \t' \t           '           What\\'s up?'               What's up?\n",
    "            \\\" \t\" \t           \"           That's \\\"cool\\\"\"           That's \"cool\"\n",
    "            \\\\ \t\\ \t           \"           Look, a mountain: /\\\\\"     Look, a mountain: /\\\n",
    "            \\n \t                             \"1\\n2 3\"                     1\n",
    "                                                                             2 3\n",
    "                                                                           \n",
    "\n",
    "\n",
    "The last sequence, \\n, represents the newline character. It causes Python to start a new line.\n"
   ]
  },
  {
   "cell_type": "code",
   "execution_count": 7,
   "id": "4a90dcf7",
   "metadata": {},
   "outputs": [
    {
     "name": "stdout",
     "output_type": "stream",
     "text": [
      "hello\n",
      "world\n"
     ]
    }
   ],
   "source": [
    "hello = \"hello\\nworld\"\n",
    "print(hello)"
   ]
  },
  {
   "cell_type": "markdown",
   "id": "8057ab28",
   "metadata": {},
   "source": [
    "In addition, Python's `triple quote syntax` for strings lets us include newlines literally (i.e. by just hitting 'Enter' on our keyboard, rather than using the special '\\n' sequence). We've already seen this in the `docstrings` we use to document our functions, but we can use them anywhere we want to define a string"
   ]
  },
  {
   "cell_type": "code",
   "execution_count": 8,
   "id": "812dad16",
   "metadata": {},
   "outputs": [
    {
     "name": "stdout",
     "output_type": "stream",
     "text": [
      "hello\n",
      "world\n"
     ]
    },
    {
     "data": {
      "text/plain": [
       "True"
      ]
     },
     "execution_count": 8,
     "metadata": {},
     "output_type": "execute_result"
    }
   ],
   "source": [
    "triplequoted_hello = \"\"\"hello\n",
    "world\"\"\"\n",
    "print(triplequoted_hello)\n",
    "triplequoted_hello == hello"
   ]
  },
  {
   "cell_type": "code",
   "execution_count": 9,
   "id": "e3ec2cd1",
   "metadata": {},
   "outputs": [
    {
     "name": "stdout",
     "output_type": "stream",
     "text": [
      "hello\n",
      "world\n",
      "hellopluto"
     ]
    }
   ],
   "source": [
    "#The print() function automatically adds a newline character unless we specify a value for the keyword argument end other than the default value of '\\n':\n",
    "print(\"hello\")\n",
    "print(\"world\")\n",
    "print(\"hello\", end='')\n",
    "print(\"pluto\", end='')"
   ]
  },
  {
   "cell_type": "markdown",
   "id": "9acd5b36",
   "metadata": {},
   "source": [
    "## Strings are sequences\n",
    "\n",
    "Strings can be thought of as sequences of characters. Almost everything we've seen that we can do to a list, we can also do to a string."
   ]
  },
  {
   "cell_type": "code",
   "execution_count": 10,
   "id": "d0e9d5b4",
   "metadata": {},
   "outputs": [
    {
     "data": {
      "text/plain": [
       "'P'"
      ]
     },
     "execution_count": 10,
     "metadata": {},
     "output_type": "execute_result"
    }
   ],
   "source": [
    "# Indexing\n",
    "planet = 'Pluto'\n",
    "planet[0]"
   ]
  },
  {
   "cell_type": "code",
   "execution_count": 11,
   "id": "3103bdb6",
   "metadata": {},
   "outputs": [
    {
     "data": {
      "text/plain": [
       "'uto'"
      ]
     },
     "execution_count": 11,
     "metadata": {},
     "output_type": "execute_result"
    }
   ],
   "source": [
    "# Slicing\n",
    "planet[-3:]"
   ]
  },
  {
   "cell_type": "code",
   "execution_count": 12,
   "id": "475969c8",
   "metadata": {},
   "outputs": [
    {
     "data": {
      "text/plain": [
       "5"
      ]
     },
     "execution_count": 12,
     "metadata": {},
     "output_type": "execute_result"
    }
   ],
   "source": [
    "# How long is this string?\n",
    "len(planet)"
   ]
  },
  {
   "cell_type": "code",
   "execution_count": 13,
   "id": "1b9390fd",
   "metadata": {},
   "outputs": [
    {
     "data": {
      "text/plain": [
       "['P! ', 'l! ', 'u! ', 't! ', 'o! ']"
      ]
     },
     "execution_count": 13,
     "metadata": {},
     "output_type": "execute_result"
    }
   ],
   "source": [
    "# Yes, we can even loop over them\n",
    "[char+'! ' for char in planet]"
   ]
  },
  {
   "cell_type": "markdown",
   "id": "c0f3b861",
   "metadata": {},
   "source": [
    "But a major way in which they differ from lists is that they are immutable. We can't modify them."
   ]
  },
  {
   "cell_type": "code",
   "execution_count": 14,
   "id": "962bbe01",
   "metadata": {},
   "outputs": [
    {
     "ename": "TypeError",
     "evalue": "'str' object does not support item assignment",
     "output_type": "error",
     "traceback": [
      "\u001b[0;31m---------------------------------------------------------------------------\u001b[0m",
      "\u001b[0;31mTypeError\u001b[0m                                 Traceback (most recent call last)",
      "\u001b[0;32m/tmp/ipykernel_210301/2683731249.py\u001b[0m in \u001b[0;36m<module>\u001b[0;34m\u001b[0m\n\u001b[0;32m----> 1\u001b[0;31m \u001b[0mplanet\u001b[0m\u001b[0;34m[\u001b[0m\u001b[0;36m0\u001b[0m\u001b[0;34m]\u001b[0m \u001b[0;34m=\u001b[0m \u001b[0;34m'B'\u001b[0m\u001b[0;34m\u001b[0m\u001b[0;34m\u001b[0m\u001b[0m\n\u001b[0m\u001b[1;32m      2\u001b[0m \u001b[0;31m# planet.append doesn't work either\u001b[0m\u001b[0;34m\u001b[0m\u001b[0;34m\u001b[0m\u001b[0;34m\u001b[0m\u001b[0m\n",
      "\u001b[0;31mTypeError\u001b[0m: 'str' object does not support item assignment"
     ]
    }
   ],
   "source": [
    "planet[0] = 'B'\n",
    "# planet.append doesn't work either"
   ]
  },
  {
   "cell_type": "markdown",
   "id": "ac42cd2f",
   "metadata": {},
   "source": [
    "## String methods"
   ]
  },
  {
   "cell_type": "code",
   "execution_count": 30,
   "id": "2dd01876",
   "metadata": {},
   "outputs": [
    {
     "data": {
      "text/plain": [
       "'PLUTO IS A PLANET!'"
      ]
     },
     "execution_count": 30,
     "metadata": {},
     "output_type": "execute_result"
    }
   ],
   "source": [
    "# ALL CAPS\n",
    "claim = \"Pluto is a planet!\"\n",
    "claim.upper()"
   ]
  },
  {
   "cell_type": "code",
   "execution_count": 16,
   "id": "2916f0ad",
   "metadata": {},
   "outputs": [
    {
     "data": {
      "text/plain": [
       "'pluto is a planet!'"
      ]
     },
     "execution_count": 16,
     "metadata": {},
     "output_type": "execute_result"
    }
   ],
   "source": [
    "# all lowercase\n",
    "claim.lower()"
   ]
  },
  {
   "cell_type": "code",
   "execution_count": 17,
   "id": "a2f400d6",
   "metadata": {},
   "outputs": [
    {
     "data": {
      "text/plain": [
       "11"
      ]
     },
     "execution_count": 17,
     "metadata": {},
     "output_type": "execute_result"
    }
   ],
   "source": [
    "# Searching for the first index of a substring\n",
    "claim.index('plan')"
   ]
  },
  {
   "cell_type": "code",
   "execution_count": 36,
   "id": "c7f31ebe",
   "metadata": {},
   "outputs": [
    {
     "data": {
      "text/plain": [
       "True"
      ]
     },
     "execution_count": 36,
     "metadata": {},
     "output_type": "execute_result"
    }
   ],
   "source": [
    "claim.startswith(planet)"
   ]
  },
  {
   "cell_type": "code",
   "execution_count": 35,
   "id": "633245f1",
   "metadata": {},
   "outputs": [
    {
     "data": {
      "text/plain": [
       "False"
      ]
     },
     "execution_count": 35,
     "metadata": {},
     "output_type": "execute_result"
    }
   ],
   "source": [
    "# false because of missing exclamation mark\n",
    "claim.endswith('planet')"
   ]
  },
  {
   "cell_type": "markdown",
   "id": "5c49c672",
   "metadata": {},
   "source": [
    "## Going between strings and lists:\n",
    "\n",
    "`str.split()` turns a string into a list of smaller strings, breaking on whitespace by default. This is super useful for taking you from one big string to a list of words."
   ]
  },
  {
   "cell_type": "code",
   "execution_count": 26,
   "id": "34f3798f",
   "metadata": {},
   "outputs": [
    {
     "data": {
      "text/plain": [
       "['Pluto', 'is', 'a', 'planet!']"
      ]
     },
     "execution_count": 26,
     "metadata": {},
     "output_type": "execute_result"
    }
   ],
   "source": [
    "words = claim.split()\n",
    "words"
   ]
  },
  {
   "cell_type": "code",
   "execution_count": 37,
   "id": "66bda937",
   "metadata": {},
   "outputs": [],
   "source": [
    "#Occasionally you'll want to split on something other than whitespace:\n",
    "datestr = '1956-01-31'\n",
    "year, month, day = datestr.split('-')"
   ]
  },
  {
   "cell_type": "markdown",
   "id": "f4d0014d",
   "metadata": {},
   "source": [
    "`str.join()` takes us in the other direction, sewing a list of strings up into one long string, using the string it was called on as a separator."
   ]
  },
  {
   "cell_type": "code",
   "execution_count": 38,
   "id": "5f683d7c",
   "metadata": {},
   "outputs": [
    {
     "data": {
      "text/plain": [
       "'01/31/1956'"
      ]
     },
     "execution_count": 38,
     "metadata": {},
     "output_type": "execute_result"
    }
   ],
   "source": [
    "'/'.join([month, day, year])"
   ]
  },
  {
   "cell_type": "code",
   "execution_count": 39,
   "id": "726fae77",
   "metadata": {},
   "outputs": [
    {
     "data": {
      "text/plain": [
       "'PLUTO 👏 IS 👏 A 👏 PLANET!'"
      ]
     },
     "execution_count": 39,
     "metadata": {},
     "output_type": "execute_result"
    }
   ],
   "source": [
    "# Yes, we can put unicode characters right in our string literals :)\n",
    "' 👏 '.join([word.upper() for word in words])"
   ]
  },
  {
   "cell_type": "markdown",
   "id": "84a3265b",
   "metadata": {},
   "source": [
    "## Building strings with `.format()`\n",
    "\n",
    "Python lets us concatenate strings with the `+` operator.\n"
   ]
  },
  {
   "cell_type": "code",
   "execution_count": 40,
   "id": "fcb0238f",
   "metadata": {},
   "outputs": [
    {
     "data": {
      "text/plain": [
       "'Pluto, we miss you.'"
      ]
     },
     "execution_count": 40,
     "metadata": {},
     "output_type": "execute_result"
    }
   ],
   "source": [
    "planet + ', we miss you.'"
   ]
  },
  {
   "cell_type": "code",
   "execution_count": 43,
   "id": "7d8ee13b",
   "metadata": {},
   "outputs": [
    {
     "data": {
      "text/plain": [
       "\"Pluto, you'll always be the 9th planet to me.\""
      ]
     },
     "execution_count": 43,
     "metadata": {},
     "output_type": "execute_result"
    }
   ],
   "source": [
    "#If we want to throw in any non-string objects, we have to be careful to call str() on them first\n",
    "planet + \", you'll always be the \" + str(9) + \"th planet to me.\""
   ]
  },
  {
   "cell_type": "markdown",
   "id": "ddf0bbb1",
   "metadata": {},
   "source": [
    "### .format( )"
   ]
  },
  {
   "cell_type": "code",
   "execution_count": 50,
   "id": "ffe69357",
   "metadata": {},
   "outputs": [
    {
     "data": {
      "text/plain": [
       "\"Pluto, you'll always be the 9th planet to me.\""
      ]
     },
     "execution_count": 50,
     "metadata": {},
     "output_type": "execute_result"
    }
   ],
   "source": [
    "#This is getting hard to read and annoying to type. str.format() to the rescue\n",
    "\"{}, you'll always be the {}th planet to me.\".format(planet, 9)"
   ]
  },
  {
   "cell_type": "markdown",
   "id": "ab2d9914",
   "metadata": {},
   "source": [
    "So much cleaner! We call `.format()` on a \"format string\", where the Python values we want to insert are represented with `{} placeholders`.\n",
    "\n",
    "Notice how we didn't even have to call `str()` to convert position from an int. format() takes care of that for us.\n",
    "\n",
    "If that was all that format() did, it would still be incredibly useful. But as it turns out, it can do a lot more. Here's just a taste:\n"
   ]
  },
  {
   "cell_type": "code",
   "execution_count": 51,
   "id": "1c54eb59",
   "metadata": {},
   "outputs": [
    {
     "data": {
      "text/plain": [
       "\"Pluto weighs about 1.3e+22 kilograms (0.218% of Earth's mass). It is home to 52,910,390 Plutonians.\""
      ]
     },
     "execution_count": 51,
     "metadata": {},
     "output_type": "execute_result"
    }
   ],
   "source": [
    "pluto_mass = 1.303 * 10**22\n",
    "earth_mass = 5.9722 * 10**24\n",
    "population = 52910390\n",
    "#         2 decimal points   3 decimal points, format as percent     separate with commas\n",
    "\"{} weighs about {:.2} kilograms ({:.3%} of Earth's mass). It is home to {:,} Plutonians.\".format(\n",
    "    planet, pluto_mass, pluto_mass / earth_mass, population,\n",
    ")"
   ]
  },
  {
   "cell_type": "code",
   "execution_count": 52,
   "id": "9b09855a",
   "metadata": {},
   "outputs": [
    {
     "name": "stdout",
     "output_type": "stream",
     "text": [
      "Pluto's a planet.\n",
      "No, it's a dwarf planet.\n",
      "planet!\n",
      "dwarf planet!\n"
     ]
    }
   ],
   "source": [
    "# Referring to format() arguments by index, starting from 0\n",
    "s = \"\"\"Pluto's a {0}.\n",
    "No, it's a {1}.\n",
    "{0}!\n",
    "{1}!\"\"\".format('planet', 'dwarf planet')\n",
    "print(s)"
   ]
  },
  {
   "cell_type": "markdown",
   "id": "bb170082",
   "metadata": {},
   "source": [
    "For further readings on `.format( )` refer the links:\n",
    "    1. https://pyformat.info/\n",
    "    2. https://docs.python.org/3/library/string.html#formatstrings"
   ]
  },
  {
   "cell_type": "markdown",
   "id": "5608a9c3",
   "metadata": {},
   "source": [
    "## Dictionaries\n",
    "Dictionaries are a built-in Python data structure for mapping keys to values"
   ]
  },
  {
   "cell_type": "code",
   "execution_count": 53,
   "id": "073864a8",
   "metadata": {},
   "outputs": [],
   "source": [
    "numbers = {'one':1, 'two':2, 'three':3}"
   ]
  },
  {
   "cell_type": "markdown",
   "id": "5bcf9097",
   "metadata": {},
   "source": [
    "In this case 'one', 'two', and 'three' are the keys, and 1, 2 and 3 are their corresponding values.\n",
    "\n",
    "Values are accessed via square bracket syntax similar to indexing into lists and strings."
   ]
  },
  {
   "cell_type": "code",
   "execution_count": 54,
   "id": "45b3bc04",
   "metadata": {},
   "outputs": [
    {
     "data": {
      "text/plain": [
       "1"
      ]
     },
     "execution_count": 54,
     "metadata": {},
     "output_type": "execute_result"
    }
   ],
   "source": [
    "numbers['one']"
   ]
  },
  {
   "cell_type": "code",
   "execution_count": 55,
   "id": "bb9a5735",
   "metadata": {},
   "outputs": [
    {
     "data": {
      "text/plain": [
       "{'one': 1, 'two': 2, 'three': 3, 'eleven': 11}"
      ]
     },
     "execution_count": 55,
     "metadata": {},
     "output_type": "execute_result"
    }
   ],
   "source": [
    "#We can use the same syntax to add another key, value pair\n",
    "numbers['eleven'] = 11\n",
    "numbers"
   ]
  },
  {
   "cell_type": "code",
   "execution_count": 56,
   "id": "6b6f92d3",
   "metadata": {},
   "outputs": [
    {
     "data": {
      "text/plain": [
       "{'one': 'Pluto', 'two': 2, 'three': 3, 'eleven': 11}"
      ]
     },
     "execution_count": 56,
     "metadata": {},
     "output_type": "execute_result"
    }
   ],
   "source": [
    "#Or to change the value associated with an existing key\n",
    "numbers['one'] = 'Pluto'\n",
    "numbers"
   ]
  },
  {
   "cell_type": "code",
   "execution_count": 58,
   "id": "24b5e72a",
   "metadata": {},
   "outputs": [
    {
     "data": {
      "text/plain": [
       "{'Mercury': 'M',\n",
       " 'Venus': 'V',\n",
       " 'Earth': 'E',\n",
       " 'Mars': 'M',\n",
       " 'Jupiter': 'J',\n",
       " 'Saturn': 'S',\n",
       " 'Uranus': 'U',\n",
       " 'Neptune': 'N'}"
      ]
     },
     "execution_count": 58,
     "metadata": {},
     "output_type": "execute_result"
    }
   ],
   "source": [
    "#Python has dictionary comprehensions with a syntax similar to the list comprehensions\n",
    "planets = ['Mercury', 'Venus', 'Earth', 'Mars', 'Jupiter', 'Saturn', 'Uranus', 'Neptune']\n",
    "planet_to_initial = {planet: planet[0] for planet in planets}\n",
    "planet_to_initial"
   ]
  },
  {
   "cell_type": "code",
   "execution_count": 61,
   "id": "2ea6e893",
   "metadata": {},
   "outputs": [
    {
     "name": "stdout",
     "output_type": "stream",
     "text": [
      "True False\n"
     ]
    }
   ],
   "source": [
    "#The in operator tells us whether something is a key in the dictionary\n",
    "print ('Saturn' in planet_to_initial,\n",
    "        'Betelgeuse' in planet_to_initial)"
   ]
  },
  {
   "cell_type": "code",
   "execution_count": 68,
   "id": "dabaa778",
   "metadata": {},
   "outputs": [
    {
     "name": "stdout",
     "output_type": "stream",
     "text": [
      "{'one': 'Pluto', 'two': 2, 'three': 3, 'eleven': 11} \n",
      "\n",
      "one = Pluto\n",
      "two = 2\n",
      "three = 3\n",
      "eleven = 11\n"
     ]
    }
   ],
   "source": [
    "#A for loop over a dictionary will loop over its keys\n",
    "print (numbers,'\\n')\n",
    "\n",
    "for k in numbers:\n",
    "    print(\"{} = {}\".format(k, numbers[k]))"
   ]
  },
  {
   "cell_type": "markdown",
   "id": "f87b9b38",
   "metadata": {},
   "source": [
    "We can access a collection of all the keys or all the values with `dict.keys()` and `dict.values()`, respectively."
   ]
  },
  {
   "cell_type": "code",
   "execution_count": 69,
   "id": "cfb5f5bf",
   "metadata": {},
   "outputs": [
    {
     "data": {
      "text/plain": [
       "'E J M M N S U V'"
      ]
     },
     "execution_count": 69,
     "metadata": {},
     "output_type": "execute_result"
    }
   ],
   "source": [
    "# Get all the initials, sort them alphabetically, and put them in a space-separated string.\n",
    "' '.join(sorted(planet_to_initial.values()))"
   ]
  },
  {
   "cell_type": "markdown",
   "id": "1ec37d2e",
   "metadata": {},
   "source": [
    "The very useful `dict.items()` method lets us iterate over the `keys` and `values` of a dictionary simultaneously. (In Python jargon, `an item refers to a key, value pair`)"
   ]
  },
  {
   "cell_type": "code",
   "execution_count": 72,
   "id": "aac8a178",
   "metadata": {},
   "outputs": [
    {
     "name": "stdout",
     "output_type": "stream",
     "text": [
      "   Mercury begins with \"M\"\n",
      "     Venus begins with \"V\"\n",
      "     Earth begins with \"E\"\n",
      "      Mars begins with \"M\"\n",
      "   Jupiter begins with \"J\"\n",
      "    Saturn begins with \"S\"\n",
      "    Uranus begins with \"U\"\n",
      "   Neptune begins with \"N\"\n"
     ]
    }
   ],
   "source": [
    "for planet, initial in planet_to_initial.items():\n",
    "    print(\"{} begins with \\\"{}\\\"\".format(planet.rjust(10), initial))"
   ]
  },
  {
   "cell_type": "markdown",
   "id": "cba4ff78",
   "metadata": {},
   "source": [
    "String `rjust()` and `ljust()`: <br>\n",
    "\n",
    "The string `rjust()` method returns a new string of given length after substituting a given character in left side of original string.  <br>\n",
    "The string `ljust()` method returns a new string of given length after substituting a given character in right side of original string."
   ]
  },
  {
   "cell_type": "code",
   "execution_count": 79,
   "id": "ead458d2",
   "metadata": {},
   "outputs": [
    {
     "name": "stdout",
     "output_type": "stream",
     "text": [
      "****banana is my favorite fruit.\n"
     ]
    }
   ],
   "source": [
    "txt = \"banana\"\n",
    "x = txt.rjust(10,'*')\n",
    "print(x, \"is my favorite fruit.\") "
   ]
  },
  {
   "cell_type": "code",
   "execution_count": 80,
   "id": "e244926e",
   "metadata": {},
   "outputs": [
    {
     "name": "stdout",
     "output_type": "stream",
     "text": [
      "banana**** is my favorite fruit.\n"
     ]
    }
   ],
   "source": [
    "txt = \"banana\"\n",
    "x = txt.ljust(10,'*')\n",
    "print(x, \"is my favorite fruit.\") "
   ]
  },
  {
   "cell_type": "code",
   "execution_count": 87,
   "id": "ae0efbb7",
   "metadata": {},
   "outputs": [
    {
     "data": {
      "text/plain": [
       "True"
      ]
     },
     "execution_count": 87,
     "metadata": {},
     "output_type": "execute_result"
    }
   ],
   "source": [
    "def is_valid_zip(zip_code):\n",
    "    return len(zip_code) == 6 and zip_code.isdigit()\n",
    "    pass\n",
    "\n",
    "is_valid_zip(\"226007\")"
   ]
  },
  {
   "cell_type": "code",
   "execution_count": 94,
   "id": "2f8b9fc0",
   "metadata": {},
   "outputs": [
    {
     "data": {
      "text/plain": [
       "[2]"
      ]
     },
     "execution_count": 94,
     "metadata": {},
     "output_type": "execute_result"
    }
   ],
   "source": [
    "def word_search(doc_list, keyword):\n",
    "    \"\"\"\n",
    "    Takes a list of documents (each document is a string) and a keyword. \n",
    "    Returns list of the index values into the original list for all documents \n",
    "    containing the keyword.\n",
    "\n",
    "    Example:\n",
    "    doc_list = [\"The Learn Python Challenge Casino.\", \"They bought a car\", \"Casinoville\"]\n",
    "    >>> word_search(doc_list, 'casino')\n",
    "    >>> [0]\n",
    "    \"\"\"\n",
    "    # list to hold the indices of matching documents\n",
    "    indices = [] \n",
    "    # Iterate through the indices (i) and elements (doc) of documents\n",
    "    for i, doc in enumerate(doc_list):\n",
    "        # Split the string doc into a list of words (according to whitespace)\n",
    "        tokens = doc.split()\n",
    "        # Make a transformed list where we 'normalize' each word to facilitate matching.\n",
    "        # Periods and commas are removed from the end of each word, and it's set to all lowercase.\n",
    "        normalized = [token.rstrip('.,').lower() for token in tokens]\n",
    "        # Is there a match? If so, update the list of matching indices.\n",
    "        if keyword.lower() in normalized:\n",
    "            indices.append(i)\n",
    "    return indices\n",
    "    pass\n",
    "\n",
    "doc_list = [\"The Learn Python Challenge Casino.\", \"They bought a car\", \"Casinoville\"]\n",
    "word_search(doc_list, 'Casinoville')"
   ]
  },
  {
   "cell_type": "code",
   "execution_count": null,
   "id": "a35549ef",
   "metadata": {},
   "outputs": [],
   "source": []
  }
 ],
 "metadata": {
  "kernelspec": {
   "display_name": "Python 3 (ipykernel)",
   "language": "python",
   "name": "python3"
  },
  "language_info": {
   "codemirror_mode": {
    "name": "ipython",
    "version": 3
   },
   "file_extension": ".py",
   "mimetype": "text/x-python",
   "name": "python",
   "nbconvert_exporter": "python",
   "pygments_lexer": "ipython3",
   "version": "3.8.10"
  }
 },
 "nbformat": 4,
 "nbformat_minor": 5
}
